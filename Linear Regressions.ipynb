{
 "cells": [
  {
   "cell_type": "markdown",
   "id": "b7033429-ce37-43ed-9ac5-b41d31048076",
   "metadata": {},
   "source": [
    "## Ridge Regression"
   ]
  },
  {
   "cell_type": "code",
   "execution_count": 29,
   "id": "15855226-d7e7-44e6-8c5a-26a86d618e42",
   "metadata": {},
   "outputs": [
    {
     "name": "stdout",
     "output_type": "stream",
     "text": [
      "Ridge Regresyonu MSE: 0.2741402843704467\n"
     ]
    },
    {
     "data": {
      "image/png": "[encoded data removed]",
      "text/plain": [
       "<Figure size 432x288 with 1 Axes>"
      ]
     },
     "metadata": {
      "needs_background": "light"
     },
     "output_type": "display_data"
    }
   ],
   "source": [
    "# Libraries used\n",
    "import numpy as np\n",
    "import pandas as pd\n",
    "from sklearn.model_selection import train_test_split\n",
    "from sklearn.linear_model import Ridge, Lasso, ElasticNet\n",
    "from sklearn.metrics import mean_squared_error\n",
    "import matplotlib.pyplot as plt\n",
    "\n",
    "# Create a random house price dataset\n",
    "np.random.seed(42)\n",
    "n_samples = 1000\n",
    "n_features = 5\n",
    "\n",
    "# Generate random specifications and prices\n",
    "X = np.random.randn(n_samples, n_features)\n",
    "true_coef = np.random.rand(n_features) * 10\n",
    "y = X.dot(true_coef) + np.random.normal(scale=0.5, size=n_samples)\n",
    "\n",
    "# Split the data set into training and test sets\n",
    "X_train, X_test, y_train, y_test = train_test_split(X, y, test_size=0.2, random_state=42)\n",
    "\n",
    "# Ridge Regression\n",
    "ridge = Ridge(alpha=1.0)  # Alpha parameter controls the amount of editing\n",
    "ridge.fit(X_train, y_train)\n",
    "ridge_pred = ridge.predict(X_test)\n",
    "ridge_mse = mean_squared_error(y_test, ridge_pred)\n",
    "print(\"Ridge Regresyonu MSE:\", ridge_mse)\n",
    "\n",
    "#This code experiments with different levels of regularization by setting the Ridge regression model to various lambda (α) values\n",
    "lambdalar = 10**np.linspace(10,-2,100)*0.5 \n",
    "\n",
    "ridge_model = Ridge()\n",
    "coefs = []\n",
    "\n",
    "for i in lambdalar:\n",
    "    ridge_model.set_params(alpha = i)\n",
    "    ridge_model.fit(X_train, y_train) \n",
    "    coefs.append(ridge_model.coef_) \n",
    "    \n",
    "\n",
    "    \n",
    "ax = plt.gca()\n",
    "ax.plot(lambdalar, coefs) \n",
    "ax.set_xscale('log') \n",
    "\n",
    "plt.xlabel('Lambda (Alpha) Values')\n",
    "plt.ylabel('Coefficients/Weights')\n",
    "plt.title('Ridge Coefficients as a Function of Regularization');"
   ]
  },
  {
   "cell_type": "markdown",
   "id": "9a782835-d001-48ad-b2dc-ae1f643d2e35",
   "metadata": {
    "tags": []
   },
   "source": [
    "## Model Tuning"
   ]
  },
  {
   "cell_type": "code",
   "execution_count": 32,
   "id": "e0c495aa-edf2-4cab-8efd-fb01d3249b9f",
   "metadata": {},
   "outputs": [],
   "source": [
    "lambdalar = 10**np.linspace(10,-2,100)*0.5 "
   ]
  },
  {
   "cell_type": "code",
   "execution_count": 33,
   "id": "53ad63b1-8c02-47f8-87f0-306667efc713",
   "metadata": {},
   "outputs": [
    {
     "data": {
      "text/plain": [
       "array([5.00000000e+09, 3.78231664e+09, 2.86118383e+09, 2.16438064e+09,\n",
       "       1.63727458e+09])"
      ]
     },
     "execution_count": 33,
     "metadata": {},
     "output_type": "execute_result"
    }
   ],
   "source": [
    "lambdalar[0:5]"
   ]
  },
  {
   "cell_type": "code",
   "execution_count": 34,
   "id": "228840cc-94ac-4eab-a5ec-3edad87c31aa",
   "metadata": {},
   "outputs": [],
   "source": [
    "from sklearn.linear_model import RidgeCV\n",
    "ridge_cv = RidgeCV(alphas = lambdalar, \n",
    "                   scoring = \"neg_mean_squared_error\",\n",
    "                   normalize = True)"
   ]
  },
  {
   "cell_type": "code",
   "execution_count": 37,
   "id": "367a146d-355e-4403-ab89-0b49f8914694",
   "metadata": {
    "tags": []
   },
   "outputs": [
    {
     "name": "stderr",
     "output_type": "stream",
     "text": [
      "C:\\Users\\MONSTER\\emirturker\\lib\\site-packages\\sklearn\\linear_model\\_base.py:141: FutureWarning: 'normalize' was deprecated in version 1.0 and will be removed in 1.2.\n",
      "If you wish to scale the data, use Pipeline with a StandardScaler in a preprocessing stage. To reproduce the previous behavior:\n",
      "\n",
      "from sklearn.pipeline import make_pipeline\n",
      "\n",
      "model = make_pipeline(StandardScaler(with_mean=False), _RidgeGCV())\n",
      "\n",
      "If you wish to pass a sample_weight parameter, you need to pass it as a fit parameter to each step of the pipeline as follows:\n",
      "\n",
      "kwargs = {s[0] + '__sample_weight': sample_weight for s in model.steps}\n",
      "model.fit(X, y, **kwargs)\n",
      "\n",
      "\n",
      "  warnings.warn(\n"
     ]
    },
    {
     "data": {
      "text/plain": [
       "RidgeCV(alphas=array([5.00000000e+09, 3.78231664e+09, 2.86118383e+09, 2.16438064e+09,\n",
       "       1.63727458e+09, 1.23853818e+09, 9.36908711e+08, 7.08737081e+08,\n",
       "       5.36133611e+08, 4.05565415e+08, 3.06795364e+08, 2.32079442e+08,\n",
       "       1.75559587e+08, 1.32804389e+08, 1.00461650e+08, 7.59955541e+07,\n",
       "       5.74878498e+07, 4.34874501e+07, 3.28966612e+07, 2.48851178e+07,\n",
       "       1.88246790e+07, 1.42401793e+0...\n",
       "       1.00461650e+00, 7.59955541e-01, 5.74878498e-01, 4.34874501e-01,\n",
       "       3.28966612e-01, 2.48851178e-01, 1.88246790e-01, 1.42401793e-01,\n",
       "       1.07721735e-01, 8.14875417e-02, 6.16423370e-02, 4.66301673e-02,\n",
       "       3.52740116e-02, 2.66834962e-02, 2.01850863e-02, 1.52692775e-02,\n",
       "       1.15506485e-02, 8.73764200e-03, 6.60970574e-03, 5.00000000e-03]),\n",
       "        normalize=True, scoring='neg_mean_squared_error')"
      ]
     },
     "execution_count": 37,
     "metadata": {},
     "output_type": "execute_result"
    }
   ],
   "source": [
    "ridge_cv.fit(X_train, y_train)"
   ]
  },
  {
   "cell_type": "code",
   "execution_count": 40,
   "id": "910c24a7-e132-4cc9-82b0-ce6cc45bc4bd",
   "metadata": {},
   "outputs": [
    {
     "name": "stderr",
     "output_type": "stream",
     "text": [
      "C:\\Users\\MONSTER\\emirturker\\lib\\site-packages\\sklearn\\linear_model\\_base.py:141: FutureWarning: 'normalize' was deprecated in version 1.0 and will be removed in 1.2.\n",
      "If you wish to scale the data, use Pipeline with a StandardScaler in a preprocessing stage. To reproduce the previous behavior:\n",
      "\n",
      "from sklearn.pipeline import make_pipeline\n",
      "\n",
      "model = make_pipeline(StandardScaler(with_mean=False), Ridge())\n",
      "\n",
      "If you wish to pass a sample_weight parameter, you need to pass it as a fit parameter to each step of the pipeline as follows:\n",
      "\n",
      "kwargs = {s[0] + '__sample_weight': sample_weight for s in model.steps}\n",
      "model.fit(X, y, **kwargs)\n",
      "\n",
      "Set parameter alpha to: original_alpha * n_samples. \n",
      "  warnings.warn(\n"
     ]
    }
   ],
   "source": [
    "ridge_cv.alpha_\n",
    "ridge_tuned = Ridge(alpha = ridge_cv.alpha_, \n",
    "                   normalize = True).fit(X_train,y_train)"
   ]
  },
  {
   "cell_type": "code",
   "execution_count": 41,
   "id": "a389c7cc-7ea1-4a80-9c3f-244b97052917",
   "metadata": {},
   "outputs": [
    {
     "data": {
      "text/plain": [
       "0.5223563022383731"
      ]
     },
     "execution_count": 41,
     "metadata": {},
     "output_type": "execute_result"
    }
   ],
   "source": [
    "np.sqrt(mean_squared_error(y_test, ridge_tuned.predict(X_test)))"
   ]
  },
  {
   "cell_type": "markdown",
   "id": "39230600-9827-4a3b-86c2-f8b3178e5f17",
   "metadata": {},
   "source": [
    "## Lasso Regression"
   ]
  },
  {
   "cell_type": "code",
   "execution_count": 42,
   "id": "8d60e002-d16d-4c41-beb1-9ddaa785fe25",
   "metadata": {},
   "outputs": [
    {
     "name": "stdout",
     "output_type": "stream",
     "text": [
      "Lasso Regresyonu MSE: 0.3030334508437543\n"
     ]
    }
   ],
   "source": [
    "lasso = Lasso(alpha=0.1)  # Alpha parameter controls the amount of editing\n",
    "lasso.fit(X_train, y_train)\n",
    "lasso_pred = lasso.predict(X_test)\n",
    "lasso_mse = mean_squared_error(y_test, lasso_pred)\n",
    "print(\"Lasso Regresyonu MSE:\", lasso_mse)"
   ]
  },
  {
   "cell_type": "code",
   "execution_count": 60,
   "id": "41068c9e-487d-43b3-b3fd-749f458f8c29",
   "metadata": {},
   "outputs": [
    {
     "data": {
      "text/plain": [
       "Text(0, 0.5, 'weights')"
      ]
     },
     "execution_count": 60,
     "metadata": {},
     "output_type": "execute_result"
    },
    {
     "data": {
      "image/png": "[encoded data removed]",
      "text/plain": [
       "<Figure size 432x288 with 1 Axes>"
      ]
     },
     "metadata": {
      "needs_background": "light"
     },
     "output_type": "display_data"
    }
   ],
   "source": [
    "lasso = Lasso()\n",
    "lambdalar = 10**np.linspace(10,-2,100)*0.5 \n",
    "coefs = []\n",
    "\n",
    "for i in lambdalar:\n",
    "    lasso.set_params(alpha=i)\n",
    "    lasso.fit(X_train, y_train)\n",
    "    coefs.append(lasso.coef_)\n",
    "    \n",
    "ax = plt.gca()\n",
    "ax.plot(lambdalar*2, coefs)\n",
    "ax.set_xscale('log')\n",
    "plt.axis('tight')\n",
    "plt.xlabel('alpha')\n",
    "plt.ylabel('weights')"
   ]
  },
  {
   "cell_type": "markdown",
   "id": "ae23277e-0028-408a-b292-22a07983680a",
   "metadata": {},
   "source": [
    "## Forecast"
   ]
  },
  {
   "cell_type": "code",
   "execution_count": 47,
   "id": "41a7d283-eb2b-4225-99bd-4b46de5fea4c",
   "metadata": {},
   "outputs": [],
   "source": [
    "lasso_pred = lasso.predict(X_test)\n",
    "y_pred = lasso.predict(X_test)"
   ]
  },
  {
   "cell_type": "code",
   "execution_count": 49,
   "id": "c03309c0-effc-48ae-9a2e-2912799a0c7f",
   "metadata": {},
   "outputs": [
    {
     "data": {
      "text/plain": [
       "0.523403047891174"
      ]
     },
     "execution_count": 49,
     "metadata": {},
     "output_type": "execute_result"
    }
   ],
   "source": [
    "np.sqrt(mean_squared_error(y_test, lasso_pred))"
   ]
  },
  {
   "cell_type": "markdown",
   "id": "0c200ddd-ee27-4aa4-8435-3bfdaca00c2e",
   "metadata": {},
   "source": [
    "## Model Tuning"
   ]
  },
  {
   "cell_type": "code",
   "execution_count": 51,
   "id": "48e5aaac-e4e4-4aca-b44b-0e72ae8790b7",
   "metadata": {},
   "outputs": [],
   "source": [
    "from sklearn.linear_model import LassoCV"
   ]
  },
  {
   "cell_type": "code",
   "execution_count": 52,
   "id": "b5a82bfe-ea4c-486a-9f1f-d2ea11804f32",
   "metadata": {},
   "outputs": [],
   "source": [
    "lasso_cv_model = LassoCV(alphas = None, \n",
    "                         cv = 10, \n",
    "                         max_iter = 10000, \n",
    "                         normalize = True)"
   ]
  },
  {
   "cell_type": "code",
   "execution_count": 53,
   "id": "16da100e-20fd-44b4-afa5-cee928793954",
   "metadata": {},
   "outputs": [
    {
     "name": "stderr",
     "output_type": "stream",
     "text": [
      "C:\\Users\\MONSTER\\emirturker\\lib\\site-packages\\sklearn\\linear_model\\_base.py:141: FutureWarning: 'normalize' was deprecated in version 1.0 and will be removed in 1.2.\n",
      "If you wish to scale the data, use Pipeline with a StandardScaler in a preprocessing stage. To reproduce the previous behavior:\n",
      "\n",
      "from sklearn.pipeline import make_pipeline\n",
      "\n",
      "model = make_pipeline(StandardScaler(with_mean=False), Lasso())\n",
      "\n",
      "If you wish to pass a sample_weight parameter, you need to pass it as a fit parameter to each step of the pipeline as follows:\n",
      "\n",
      "kwargs = {s[0] + '__sample_weight': sample_weight for s in model.steps}\n",
      "model.fit(X, y, **kwargs)\n",
      "\n",
      "Set parameter alpha to: original_alpha * np.sqrt(n_samples). \n",
      "  warnings.warn(\n"
     ]
    },
    {
     "data": {
      "text/plain": [
       "LassoCV(cv=10, max_iter=10000, normalize=True)"
      ]
     },
     "execution_count": 53,
     "metadata": {},
     "output_type": "execute_result"
    }
   ],
   "source": [
    "lasso_cv_model.fit(X_train,y_train)"
   ]
  },
  {
   "cell_type": "code",
   "execution_count": 55,
   "id": "972443e0-0957-4700-91bd-dc2ba4fa32a9",
   "metadata": {},
   "outputs": [
    {
     "data": {
      "text/plain": [
       "0.00016884841654497793"
      ]
     },
     "execution_count": 55,
     "metadata": {},
     "output_type": "execute_result"
    }
   ],
   "source": [
    "lasso_cv_model.alpha_"
   ]
  },
  {
   "cell_type": "code",
   "execution_count": 56,
   "id": "c44fd12e-8e8e-4e52-98d2-c106ebbb04b3",
   "metadata": {},
   "outputs": [],
   "source": [
    "lasso_tuned = Lasso(alpha = lasso_cv_model.alpha_)"
   ]
  },
  {
   "cell_type": "code",
   "execution_count": 57,
   "id": "ff1579fc-5823-463e-bfee-27836b54a257",
   "metadata": {},
   "outputs": [
    {
     "data": {
      "text/plain": [
       "Lasso(alpha=0.00016884841654497793)"
      ]
     },
     "execution_count": 57,
     "metadata": {},
     "output_type": "execute_result"
    }
   ],
   "source": [
    "lasso_tuned.fit(X_train, y_train)"
   ]
  },
  {
   "cell_type": "code",
   "execution_count": 58,
   "id": "72f5c841-8d8f-4294-85a5-23801cd7d1ba",
   "metadata": {},
   "outputs": [],
   "source": [
    "lasso_pred = lasso_tuned.predict(X_test)"
   ]
  },
  {
   "cell_type": "code",
   "execution_count": 59,
   "id": "b1a8a61f-59e5-4767-8547-9139e04363b7",
   "metadata": {},
   "outputs": [
    {
     "data": {
      "text/plain": [
       "0.523403047891174"
      ]
     },
     "execution_count": 59,
     "metadata": {},
     "output_type": "execute_result"
    }
   ],
   "source": [
    "np.sqrt(mean_squared_error(y_test, y_pred))"
   ]
  },
  {
   "cell_type": "code",
   "execution_count": null,
   "id": "f4eccce6-48a1-43a6-8722-2c51b767638a",
   "metadata": {},
   "outputs": [],
   "source": []
  },
  {
   "cell_type": "markdown",
   "id": "a387c8cb-d502-4dd3-84ea-3230ebd49f03",
   "metadata": {},
   "source": [
    "## ElasticNet Regression"
   ]
  },
  {
   "cell_type": "code",
   "execution_count": 43,
   "id": "bf877daf-8684-4a56-92ca-8bca7ef7efb5",
   "metadata": {},
   "outputs": [
    {
     "name": "stdout",
     "output_type": "stream",
     "text": [
      "ElasticNet Regresyonu MSE: 0.391287548565887\n"
     ]
    }
   ],
   "source": [
    "elasticnet = ElasticNet(alpha=0.1, l1_ratio=0.5)  # Alpha determines the amount of editing, l1_ratio determines the L1 editing ratio\n",
    "elasticnet.fit(X_train, y_train)\n",
    "elasticnet_pred = elasticnet.predict(X_test)\n",
    "elasticnet_mse = mean_squared_error(y_test, elasticnet_pred)\n",
    "print(\"ElasticNet Regresyonu MSE:\", elasticnet_mse)\n"
   ]
  },
  {
   "cell_type": "code",
   "execution_count": 61,
   "id": "d764b1b8-622d-40c4-a462-eeca542d877d",
   "metadata": {},
   "outputs": [],
   "source": [
    "elasticnet = ElasticNet().fit(X_train, y_train)"
   ]
  },
  {
   "cell_type": "code",
   "execution_count": 62,
   "id": "b0aa6562-520c-4852-a5a5-bbe0c15d7e87",
   "metadata": {},
   "outputs": [
    {
     "data": {
      "text/plain": [
       "array([0.8717346 , 0.92549068, 2.79961975, 1.48600817, 1.29028781])"
      ]
     },
     "execution_count": 62,
     "metadata": {},
     "output_type": "execute_result"
    }
   ],
   "source": [
    "elasticnet.coef_"
   ]
  },
  {
   "cell_type": "code",
   "execution_count": 63,
   "id": "95d912fb-4860-4e45-8b3b-a04dfbefe61c",
   "metadata": {},
   "outputs": [
    {
     "data": {
      "text/plain": [
       "0.026412562975468026"
      ]
     },
     "execution_count": 63,
     "metadata": {},
     "output_type": "execute_result"
    }
   ],
   "source": [
    "elasticnet.intercept_"
   ]
  },
  {
   "cell_type": "markdown",
   "id": "248b24be-a640-47d8-bbc4-886d4224fa14",
   "metadata": {},
   "source": [
    "## Forecast"
   ]
  },
  {
   "cell_type": "code",
   "execution_count": 66,
   "id": "1403ef04-6910-4016-8be2-bf48f6494612",
   "metadata": {},
   "outputs": [
    {
     "data": {
      "text/plain": [
       "array([ -3.890873  ,   4.0257476 ,  -1.69080228,  -0.04393344,\n",
       "         1.95941136,   0.13429515,  -2.6580402 ,   1.54491026,\n",
       "        -4.41363463,  -2.70754714,   3.93927069,  -8.96721062,\n",
       "        -3.22551773,  -1.82254383,   3.37927641,  -1.0067798 ,\n",
       "         5.2835306 ,  -8.04194686,  -2.98532528,   4.57098811,\n",
       "        -2.9209581 ,  -5.85713581,   0.79537941,   2.75135843,\n",
       "         0.90780837,  -4.95339324,  -4.36539344,   4.32492058,\n",
       "        -3.29849245,  -0.89865285,   0.03558023,  -2.30970426,\n",
       "        -0.99584357,   1.30717511,   0.42128808,  -4.67935447,\n",
       "        -3.77750337,  -0.43279847,   2.62753079,   3.13559457,\n",
       "         0.43299162,  -6.14044177,  -5.20626302,   0.04468802,\n",
       "         9.35235705,   4.93913581,   0.35094759,  -4.01881233,\n",
       "        -0.4266582 ,  -0.191377  ,  -0.87424103,  -1.86849833,\n",
       "         1.46988563,   1.30431376,  -0.34624365,  -0.61512147,\n",
       "         0.94284844,   0.29665559,  -1.71943034,   3.01636544,\n",
       "         4.84197121,   1.95913729,   0.5255745 ,   0.96201571,\n",
       "        -1.20556632,   5.44638403,   3.27792253,   2.57231567,\n",
       "         3.80178436,   0.53212647,  -1.05417944,   0.94504942,\n",
       "         4.13955653,   4.27580548,  -3.82546923,   2.47851391,\n",
       "        -0.06985223,  -1.41358494, -11.65076149,  -7.82432386,\n",
       "         6.30867132,  -0.35052272,   3.59218342,  -1.87927796,\n",
       "        -4.09529768,  -1.49580174,  -1.49872742,   0.52901225,\n",
       "         3.06272771,   1.66400166,   3.80842994,  -3.62694665,\n",
       "        -0.25972396,   2.98914105,  -3.72605294,  -1.78896598,\n",
       "        -0.79209037,  -7.27266891,   0.12102637,   4.56032304,\n",
       "         6.76179586,   7.85683408,   1.03207703,   2.39166525,\n",
       "        -1.27611173,   5.04820097,  -4.2738831 ,  -8.17609787,\n",
       "        -1.75232699,   2.50814429,  -3.34615426,  -7.83186523,\n",
       "        -2.26041966,   3.48334024,  -0.64185526,   4.41410869,\n",
       "         0.88613754,  -4.97034569,  -1.41523729,  -0.86090581,\n",
       "         6.11409493,   4.51992976,   4.79094903,  -0.55847121,\n",
       "        -1.12371611,  -5.32841218,   5.16518198,  -0.66260029,\n",
       "        -4.14046517,  -1.76607097,  -2.84769482,   5.64023341,\n",
       "        -3.99194206,  -1.85720785,  -3.74824031,  -1.46034595,\n",
       "         4.81535517,   0.28399822,  -1.06778768,   3.0806247 ,\n",
       "        -0.76812532,   4.40476112,  -0.89686893,   1.45082725,\n",
       "         1.63389658,  -0.34111591,  -0.18680868,   1.42804681,\n",
       "         4.49844284,   4.01186495,  -1.58352735,  -1.93867676,\n",
       "         4.56347529,  -4.74954418,   1.23056138,   3.65132176,\n",
       "         3.07746398,  -0.58026909,   1.75749065,   3.97349702,\n",
       "        -0.0157846 ,   0.04957954,  -3.00174792,   4.66294066,\n",
       "         4.90672633,  -1.87307353,   2.59726003,  -4.43485297,\n",
       "        -1.03424474,  -4.22838467,  -0.87787898,  -4.50368979,\n",
       "         4.04083982,  -3.5004623 ,  -0.45940761,  -6.34279845,\n",
       "        -0.42150374,   0.79057533,  -3.81908057,   0.45799569,\n",
       "        -0.71118552,  -0.19427886,  -0.01420883,   3.92200578,\n",
       "         3.80626104,   1.00590317,  -3.32554124,   3.23040615,\n",
       "         1.82663579,  -1.42575715,   3.62854123,  -2.62366681,\n",
       "        -7.43518087,   3.12924611,   0.85409745,  -3.25998606,\n",
       "        -4.10480304,   3.80959085,   3.21100432,   0.24572895])"
      ]
     },
     "execution_count": 66,
     "metadata": {},
     "output_type": "execute_result"
    }
   ],
   "source": [
    "elasticnet.predict(X_test)"
   ]
  },
  {
   "cell_type": "code",
   "execution_count": 67,
   "id": "fa07ca2b-d832-4db5-9bf0-8b58e2a028a6",
   "metadata": {},
   "outputs": [],
   "source": [
    "y_pred =elasticnet.predict(X_test)"
   ]
  },
  {
   "cell_type": "code",
   "execution_count": 68,
   "id": "c5987d63-254a-471b-ad03-844ef7313b42",
   "metadata": {},
   "outputs": [
    {
     "data": {
      "text/plain": [
       "2.748840420859469"
      ]
     },
     "execution_count": 68,
     "metadata": {},
     "output_type": "execute_result"
    }
   ],
   "source": [
    "np.sqrt(mean_squared_error(y_test, y_pred))"
   ]
  },
  {
   "cell_type": "code",
   "execution_count": 70,
   "id": "0a7829b5-d7a2-4cf7-b7a4-a95eff3c06eb",
   "metadata": {},
   "outputs": [
    {
     "data": {
      "text/plain": [
       "0.8042873087549661"
      ]
     },
     "execution_count": 70,
     "metadata": {},
     "output_type": "execute_result"
    }
   ],
   "source": [
    "from sklearn.metrics import r2_score\n",
    "r2_score(y_test, y_pred)"
   ]
  },
  {
   "cell_type": "markdown",
   "id": "591f73d3-9402-4905-9b16-289c478d332f",
   "metadata": {},
   "source": [
    "## Model Tuning"
   ]
  },
  {
   "cell_type": "code",
   "execution_count": 72,
   "id": "a588d69a-2063-4778-95fa-0ed82ba2fb4b",
   "metadata": {},
   "outputs": [],
   "source": [
    "from sklearn.linear_model import ElasticNetCV\n",
    "elasticnet = ElasticNetCV(cv = 10, random_state = 0).fit(X_train, y_train)"
   ]
  },
  {
   "cell_type": "code",
   "execution_count": 74,
   "id": "b39c74ea-5d29-4f71-8bf6-3189bce15a7a",
   "metadata": {},
   "outputs": [
    {
     "data": {
      "text/plain": [
       "0.009605317638590535"
      ]
     },
     "execution_count": 74,
     "metadata": {},
     "output_type": "execute_result"
    }
   ],
   "source": [
    "elasticnet.alpha_"
   ]
  },
  {
   "cell_type": "code",
   "execution_count": 75,
   "id": "3d13fff8-5a5a-43e1-82e6-e77df13547f9",
   "metadata": {},
   "outputs": [],
   "source": [
    "elasticnet = ElasticNet(alpha = elasticnet.alpha_).fit(X_train,y_train)"
   ]
  },
  {
   "cell_type": "code",
   "execution_count": 76,
   "id": "a69b1021-b747-4818-9d0c-794faa43cace",
   "metadata": {},
   "outputs": [],
   "source": [
    "y_pred = elasticnet.predict(X_test)"
   ]
  },
  {
   "cell_type": "code",
   "execution_count": 77,
   "id": "7b948a7d-6fa0-4cdf-ad56-a356ed7425a3",
   "metadata": {},
   "outputs": [
    {
     "data": {
      "text/plain": [
       "0.5221648990955399"
      ]
     },
     "execution_count": 77,
     "metadata": {},
     "output_type": "execute_result"
    }
   ],
   "source": [
    "np.sqrt(mean_squared_error(y_test, y_pred))"
   ]
  },
  {
   "cell_type": "code",
   "execution_count": 79,
   "id": "f4586f1e-bcc1-49ff-8d78-98fbccda1daf",
   "metadata": {},
   "outputs": [],
   "source": [
    "# As a result\n",
    "# Ridge Regression : 0.5223563022383731\n",
    "# Lasso Regression : 0.523403047891174\n",
    "# ElasticNet Regression : 0.5221648990955399\n"
   ]
  },
  {
   "cell_type": "code",
   "execution_count": null,
   "id": "04065bfc-a3da-4c18-ac29-278c44e6ad43",
   "metadata": {},
   "outputs": [],
   "source": []
  }
 ],
 "metadata": {
  "kernelspec": {
   "display_name": "Python 3 (ipykernel)",
   "language": "python",
   "name": "python3"
  },
  "language_info": {
   "codemirror_mode": {
    "name": "ipython",
    "version": 3
   },
   "file_extension": ".py",
   "mimetype": "text/x-python",
   "name": "python",
   "nbconvert_exporter": "python",
   "pygments_lexer": "ipython3",
   "version": "3.9.12"
  }
 },
 "nbformat": 4,
 "nbformat_minor": 5
}
